{
 "metadata": {
  "name": "130629-In-memoriam-JohnHunter"
 },
 "nbformat": 3,
 "nbformat_minor": 0,
 "worksheets": [
  {
   "cells": [
    {
     "cell_type": "heading",
     "level": 1,
     "metadata": {},
     "source": [
      "In Memoriam, John D. Hunter III: 1968-2012"
     ]
    },
    {
     "cell_type": "markdown",
     "metadata": {},
     "source": [
      "I just returned from the SciPy 2013 conference, whose organizers kindly invited me to deliver a [keynote](http://www.youtube.com/watch?v=j9YpkSX7NNM). For me this was a particularly difficult, yet meaningful edition of SciPy, my favorite conference.  It was only a year ago that John Hunter, creator of [matplotlib](http://matplotlib.org), had [delivered his keynote](http://www.youtube.com/watch?v=e3lTby5RI54) shortly before being diagnosed with terminal colon cancer, from which [he passed away on August 28, 2012](https://groups.google.com/forum/#!msg/pydata/FpwXp3sX6N8/mxopkZ1PkBQJ) (if you haven't seen his talk, I strongly recommend it for its insights into scientific open source work).\n",
      "\n",
      "On October 1st 2012, a memorial service was held at the University of Chicago's Rockefeller Chapel, the location of his PhD graduation. On that occasion  I read a brief eulogy, but for obvious reasons only a few members from the SciPy community were able to attend.  At this year's SciPy conference, Michael Droetboom (the new project leader for matplotlib) organized the first edition of the [John Hunter Excellence in Plotting Contest](http://conference.scipy.org/scipy2013/john_hunter_plotting_contest.php), and before the awards ceremony I read a slightly edited version of the text I had delivered in Chicago (you can see the [video here](http://www.youtube.com/watch?v=8nMORREkkWU)). I only made a few changes for brevity and to better suit the audience of the SciPy conference. I am reproducing it below.\n",
      "\n",
      "I also went through my photo albums and [found images I had of John](https://plus.google.com/photos/105051551851350439748/albums/5786518163145634545).  A [memorial fund](http://numfocus.org/johnhunter) has been established in his honor to help with the education of his three daughers Clara, Ava and Rahel.\n",
      "\n",
      "<center>\n",
      "<br>\n",
      "<a href=\"https://plus.google.com/photos/105051551851350439748/albums/5786518163145634545\"> \n",
      "<img src=\"https://raw.github.com/fperez/blog/master/fig/johnhunter-head.jpg\" width=\"25%\"> </a>\n",
      "</center>"
     ]
    },
    {
     "cell_type": "markdown",
     "metadata": {},
     "source": [
      "Dear friends and colleagues,\n",
      "\n",
      "I used to tease John by telling him that he was the man I aspired to be when I grew up. I am not sure he knew how much I actually meant that. I first met him over email in 2002, when IPython was in its infancy and had rudimentary plotting support via Gnuplot. He sent me a patch to support a plotting syntax more akin to that of matlab, but I was buried in my effort to finish my PhD and couldn\u2019t deal with his contribution for at least a few months. In the first example of what I later came to know as one of his signatures, he kindly replied and then simply routed around this blockage by single-handedly creating matplotlib. For him, building an entire new visualization library from scratch was the sensible solution: he was never one to be stopped by what many would consider an insurmountable obstacle.\n",
      "\n",
      "Our first personal encounter was at SciPy 2004 at Caltech. I was immediately taken by his unique combination of generous spirit, sharp wit and technical prowess, and over the years I would grow to love him as a brother. John was a true scholar, equally at ease in a conversation about monetary policy, digital typography or the intricacies of C++ extensions in Python. But never once would you feel from him a hint of arrogance or condescension, something depressingly common in academia. John was driven only by the desire to work on interesting questions and to always engage others in a meaningful way, whether solving their problems, lifting their spirits or simply sharing a glass of wine. Beneath a surface of technical genius, there lied a kind, playful and fearless spirit, who was quietly comfortable in his own skin and let the power of his deeds speak for him.\n",
      "\n",
      "Beyond the professional context, John had a rich world populated by the wonders of his family, his wife Miriam and his daughters Clara, Ava and Rahel. His love for his daughters knew no bounds, and yet I never once saw him clip their wings out of apprehension. They would be up on trees, dangling from monkeybars or riding their bikes, and he would always be watchful but encouraging of all their adventures. In doing so, he taught them to live like he did: without fear that anything could be too difficult or challenging to accomplish, and guided by the knowledge that small slips and failures were the natural price of being bold and never settling for the easy path.\n",
      "\n",
      "A year ago in this same venue, John drew lessons from a decade\u2019s worth of his own contributions to our community, from the vantage point of matplotlib. Ten years earlier at U. Chicago, his research on pediatric epilepsy required either expensive and proprietary tools or immature free ones. Along with a few similarly-minded folks, many of whom are in this room today, John believed in a future where science and education would be based on openly available software developed in a collaborative fashion. This could be seen as a fool\u2019s errand, given that the competition consisted of products from companies with enormous budgets and well-entrenched positions in the marketplace. Yet a decade later, this vision is gradually becoming a reality. Today, the Scientific Python ecosystem powers everything from history-making astronomical discoveries to large financial modeling companies. Since all of this is freely available for anyone to use, it was possible for us to end up a few years ago in India, teaching students from distant rural colleges how to work with the same tools that NASA uses to analyze images from the Hubble Space Telescope. In recognition of the breadth and impact of his contributions, the Python Software Foundation awarded him posthumously the first installment of its highest distinction, the [PSF Distinguished Service Award](http://www.python.org/community/awards/psf-distinguished-awards).\n",
      "\n",
      "John\u2019s legacy will be far-reaching. His work in scientific computing happened in a context of turmoil in how science and education are conducted, financed and made available to the public. I am absolutely convinced that in a few decades, historians of science will describe the period we are in right now as one of deep and significant  transformations to the very structure of science. And in that process, the rise of free openly available tools plays a central role. John was on the front lines of this effort for a decade, and with his accomplishments he shone brighter than most.\n",
      "\n",
      "John\u2019s life was cut far, far too short. We will mourn him for time to come, and we will never stop missing him. But he set the bar high, and the best way in which we can honor his incredible legacy is by living up to his standards: uncompromising integrity, never-ending intellectual curiosity, and most importantly, unbounded generosity towards all who crossed his path. I know I will never grow up to be John Hunter, but I know I must never stop trying."
     ]
    },
    {
     "cell_type": "markdown",
     "metadata": {},
     "source": [
      "Fernando P\u00e9rez\n",
      "\n",
      "June 27th 2013, SciPy Conference, Austin, Tx."
     ]
    },
    {
     "cell_type": "markdown",
     "metadata": {},
     "source": [
      "<center>\n",
      "<a href=\"https://plus.google.com/photos/105051551851350439748/albums/5786518163145634545\">\n",
      "<img src=\"https://raw.github.com/fperez/blog/master/fig/johnhunter-collage.jpg\" width=\"80%\"></a>\n",
      "<br>\n",
      "[John Hunter Memorial Fund](http://numfocus.org/johnhunter)\n",
      "</center>"
     ]
    }
   ],
   "metadata": {}
  }
 ]
}