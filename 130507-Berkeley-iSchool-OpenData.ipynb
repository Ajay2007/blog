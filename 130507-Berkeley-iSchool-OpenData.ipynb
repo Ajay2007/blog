{
 "metadata": {
  "name": "130507-Berkeley-iSchool-OpenData"
 },
 "nbformat": 3,
 "nbformat_minor": 0,
 "worksheets": [
  {
   "cells": [
    {
     "cell_type": "heading",
     "level": 1,
     "metadata": {},
     "source": [
      "Exploring Open Data with IPython at the Berkeley I School"
     ]
    },
    {
     "cell_type": "heading",
     "level": 2,
     "metadata": {},
     "source": [
      "\"Working with Open Data\", a course by Raymond Yee"
     ]
    },
    {
     "cell_type": "markdown",
     "metadata": {},
     "source": [
      "This will be a guest post, authored by [Raymond Yee](http://www.ischool.berkeley.edu/people/faculty/raymondyee) from the [UC Berkeley School of Information](http://www.ischool.berkeley.edu) (or I School, as it is known around here).  This spring, Raymond has been teaching a course titled [\"Working with Open Data\"](http://www.ischool.berkeley.edu/courses/i290t-wod), where students learn how to work with openly available data sets with Python.\n",
      "\n",
      "Raymond has been using IPython and the notebook since the start of the course, as well as hosting lots of materials directly using github.  He kindly invited me to lecture in his course a few weeks ago, and I gave his students an overview of the IPython project as well as our vision of reproducible research and of building narratives that are anchored in code and data that are always available for inspection, discussion and further modification.\n",
      "\n",
      "Towards the end of the course, his students had to develop a final project, organizing themselves in groups of 2-4 and producing a final working system that would use open datasets to produce an interesting analysis of their choice.\n",
      "\n",
      "I recently had the chance to see the final projects demonstrated recently, and I have to say that I walked out blown away by the results.  This is a group of students who don't come from traditionally computationally-intensive backgrounds, as the only requirement was some basic Python experience.  And in a matter of a few weeks, they created amazingly compelling tools, that dove into different problem domains from health care to education and even sports to produce interesting results, complete with a narrative, plots and even interactive JavaScript controls and SVG output elements.  Keep in mind that the tools to do some of this stuff aren't even really documented or explained much in IPython yet, as we haven't really dug into that part in earnest (that is our [Fall 2013 plan](https://github.com/ipython/ipython/wiki/Roadmap:-IPython)).\n",
      "\n",
      "The students obviously did run into some issues, and I took notes on what we can do to improve the situtaion. I am planning a meeting shortly on campus to give them some pointers on how to do certain things more easily. But to me, these results validate the idea that we can construct [computational narratives based on code and data](http://blog.fperez.org/2013/04/literate-computing-and-computational.html) that will ultimately lead to a much more informed kind of discourse.\n",
      "\n",
      "I am very much looking forward to future collaborations with Raymond: he has shown that we can create an educational experience around data-driven discovery, using IPython, pandas, matplotlib and the rest of the SciPy stack, that is completely accessible to students without major computational training, and that lets them produce interesting results around socially interesting and relevant datasets.\n",
      "\n",
      "I will now pass this on to Raymond, so he can describe a little bit more about the course, challenges they encountered, and highlight some of the course projects that are already available on github for further forking and collaboration.\n",
      "\n",
      "As always, this post is available [as an IPython notebook](http://nbviewer.ipython.org/urls/raw.github.com/fperez/blog/master/130507-Berkeley-iSchool-OpenData.ipynb). *The rest of the post is Raymond's authorship*."
     ]
    },
    {
     "cell_type": "heading",
     "level": 2,
     "metadata": {},
     "source": [
      "The course"
     ]
    },
    {
     "cell_type": "markdown",
     "metadata": {},
     "source": [
      "\n",
      "##What was the course?\n",
      "\n",
      "   * This semester represents the first time for teaching \"Working with Open Data\" at the School of Information, UC Berkeley.  \n",
      "   * The core audience are students in Masters program who have a one semester Python minimum requirement. \n",
      "   * As the instructor, I definitely draw from 5 times I had taught Mixing and Remixing Information, in which the emphasis was on APIs\n",
      "   * Abstract of the course: Open data \u2014 data that is free for use, reuse, and redistribution \u2014 is an intellectual treasure-trove that has given rise to many unexpected and often fruitful applications. In this course, students will 1) learn how to access, visualize, clean, interpret, and share data, especially open data, using Python, Python-based libraries, and supplementary computational frameworks and 2) understand the theoretical underpinnings of open data and their connections to implementations in the physical and life sciences, government, social sciences, and journalism.\n",
      "   * link to repo: https://github.com/rdhyee/working-open-data\n",
      "   * Problem sets using IPython notebook\n",
      "   * Final projects\n",
      "   * Presentations to each other\n",
      "   * Final open house\n",
      "\n",
      "\n",
      "##What went well\n",
      "\n",
      "   * People picking their own projects -- I've found over and over again that students rise to the occasion when they have picked projects and asked to make public presentations of their work to each other and outside of the class\n",
      "   * Working in groups (2-4) -- people learning from each other, larger scale and greater depth for projects\n",
      "   * focus of course on Python \n",
      "   * the IPython notebook -- people loved it, and it has transformed the way I program and document with Python.\n",
      "   * Wes McKinney's book Python for Data Analysis\n",
      "   * all the great resources on IPython on the web -- though it's overwhelming for students -- lots of room for curation of the materials in context of course\n",
      "   * People really did like the notebook structure and problem sets\n",
      "   * picloud -- made parallel computing aspect easier\n",
      "   * using Enthought distribution\n",
      "   * local experts working on issues of relevance\n",
      "   * guest speakers!\n",
      "   * using Google docs to organize collaboration\n",
      "   * piazza\n",
      "   * gradebook\n",
      "\n",
      "What could be done better\n",
      "\n",
      "   * challenge:  clear boundaries on what to tackle -- it is indeed tempting to using the course to try to teach everything about Python and everything about data, which is a big mistake -- but at the same time, we want to let the students run with their ideas as far as they would like and have energy for.\n",
      "   * Push github training earlier\n",
      "   * working to refine installation pains\n",
      "   * running our own IPython notebook server environment for all students\n",
      "   * Be systematic in making notes about elementary Python\n",
      "   * Team teaching might help\n",
      "   * in addition to Wes' book, use http://www.packtpub.com/learning-ipython-for-interactive-computing-and-data-visualization/book ?\n",
      "   * better integration of materials in Safari online books\n",
      "   * Next time bring JavaScript more deeply into the course\n",
      "   * More timely feedback on problem sets  -- it would be great to automate the grading of some notebooks\n",
      "   * integrate learning about IPython notebook with Python programming practices  in general\n",
      "   * I wished I had learned about IPython Parallel earlier on\n",
      "   * knowing more about matplotlib \n",
      "   * better integration with best practices for info visualization\n",
      "   * better modeling of reproducibility -- not an easy issue to come to grips with, considering the reproducibility crisis in science among the pros.\n",
      "   * teaching people how to install other distributions too\n",
      "   * getting people to be writing to each other and to the public earlier on and in a way that gets feedback so they are motivated to write more clearly.\n",
      "   * I'd like to get some women guest speakers and diverse line of interests.  (I inadvertently ended up with an all-male line up of guest speakers whereas in the past I've had great women speakers.)\n",
      "   * better integration with web frameworks such as Django or some Python micro web framework like flask or bottle\n",
      "   * was hoping to match students with real world clients\n",
      "   * better and deeper integration of social-political issues/context with the technical challenges\n",
      "   * I wish I knew more about IPython myself before the beginning of the semester -- but it's not the end of the world for the instructor to not know everything.\n",
      "   * ongoing challenge of not trying to cram too much in -- while at the same time not going too easy in pushing materials\n",
      "   * tensions of openness vs having safe haven of the class\n",
      "   * would love to be part of a growing community of practice on how to teach Python/IPython/pydata.  I started to discover resources from people out there doing similar things but in the midst of teaching, I couldn't find the time and energy to synthesize those materials.  (campus community, larger community, etc.)\n",
      "   * finding an outlet to continue teaching this course in some form or another -- in I School, on campus, online, in short form, as a module, etc.\n",
      "   * emphasize style and communication upfront\n",
      "   * would love to have a programming learning environment in which to embed the course.  Looked at Canvas for a bit.  Too much to pull off. \n",
      "   * learn from Python bootcamp materials\n",
      "   * learn from the Stats 222: http://statistics.berkeley.edu/~stark/Teach/S222/S13/\n",
      "   * modeling teacher as learner\n",
      "\n",
      "\n",
      "## Stuff I started and would like to follow up on\n",
      "\n",
      "   * PiCloud + CommonCrawl\n",
      "   * Bach project\n",
      "   * wikipedia, freebase\n",
      "   * data cleaning with openrefine\n",
      "   * AWS\n",
      "   * book data\n",
      "   * census\n",
      "   * maps\n",
      "   * matplotlib\n",
      "   * IPython parallel\n",
      "   * HathiTrust and other book data\n",
      "\n",
      "\n",
      "## Stuff to learn next week\n",
      "\n",
      "   * D3.js example\n",
      "   * Music example\n",
      "   * Use of CSS\n",
      "\n"
     ]
    },
    {
     "cell_type": "code",
     "collapsed": false,
     "input": [],
     "language": "python",
     "metadata": {},
     "outputs": []
    }
   ],
   "metadata": {}
  }
 ]
}