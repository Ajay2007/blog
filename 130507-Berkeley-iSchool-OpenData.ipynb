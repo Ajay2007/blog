{
 "metadata": {
  "name": "130507-Berkeley-iSchool-OpenData"
 },
 "nbformat": 3,
 "nbformat_minor": 0,
 "worksheets": [
  {
   "cells": [
    {
     "cell_type": "heading",
     "level": 1,
     "metadata": {},
     "source": [
      "Exploring Open Data with IPython at the Berkeley I School"
     ]
    },
    {
     "cell_type": "heading",
     "level": 2,
     "metadata": {},
     "source": [
      "\"Working with Open Data\", a course by Raymond Yee"
     ]
    },
    {
     "cell_type": "markdown",
     "metadata": {},
     "source": [
      "This will be a guest post, authored by [Raymond Yee](http://www.ischool.berkeley.edu/people/faculty/raymondyee) from the [UC Berkeley School of Information](http://www.ischool.berkeley.edu) (or I School, as it is known around here).  This spring, Raymond has been teaching a course titled [\"Working with Open Data\"](http://www.ischool.berkeley.edu/courses/i290t-wod), where students learn how to work with openly available data sets with Python.\n",
      "\n",
      "Raymond has been using IPython and the notebook since the start of the course, as well as hosting lots of materials directly using github.  He kindly invited me to lecture in his course a few weeks ago, and I gave his students an overview of the IPython project as well as our vision of reproducible research and of building narratives that are anchored in code and data that are always available for inspection, discussion and further modification.\n",
      "\n",
      "Towards the end of the course, his students had to develop a final project, organizing themselves in groups of 2-4 and producing a final working system that would use open datasets to produce an interesting analysis of their choice.\n",
      "\n",
      "I recently had the chance to see the final projects demonstrated recently, and I have to say that I walked out blown away by the results.  This is a group of students who don't come from traditionally computationally-intensive backgrounds, as the only requirement was some basic Python experience.  And in a matter of a few weeks, they created amazingly compelling tools, that dove into different problem domains from health care to education and even sports to produce interesting results, complete with a narrative, plots and even interactive JavaScript controls and SVG output elements.  Keep in mind that the tools to do some of this stuff aren't even really documented or explained much in IPython yet, as we haven't really dug into that part in earnest (that is our [Fall 2013 plan](https://github.com/ipython/ipython/wiki/Roadmap:-IPython)).\n",
      "\n",
      "The students obviously did run into some issues, and I took notes on what we can do to improve the situtaion. I am planning a meeting shortly on campus to give them some pointers on how to do certain things more easily. But to me, these results validate the idea that we can construct [computational narratives based on code and data](http://blog.fperez.org/2013/04/literate-computing-and-computational.html) that will ultimately lead to a much more informed kind of discourse.\n",
      "\n",
      "I am very much looking forward to future collaborations with Raymond: he has shown that we can create an educational experience around data-driven discovery, using IPython, pandas, matplotlib and the rest of the SciPy stack, that is completely accessible to students without major computational training, and that lets them produce interesting results around socially interesting and relevant datasets.\n",
      "\n",
      "I will now pass this on to Raymond, so he can describe a little bit more about the course, challenges they encountered, and highlight some of the course projects that are already available on github for further forking and collaboration.\n",
      "\n",
      "*The rest of the post is Raymond's authorship*"
     ]
    },
    {
     "cell_type": "heading",
     "level": 2,
     "metadata": {},
     "source": [
      "The course"
     ]
    },
    {
     "cell_type": "code",
     "collapsed": false,
     "input": [],
     "language": "python",
     "metadata": {},
     "outputs": []
    }
   ],
   "metadata": {}
  }
 ]
}